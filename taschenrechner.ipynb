{
 "cells": [
  {
   "cell_type": "code",
   "execution_count": 5,
   "metadata": {},
   "outputs": [
    {
     "name": "stdout",
     "output_type": "stream",
     "text": [
      "(0.21720377604166669, 2.411446331969843e-15)\n"
     ]
    }
   ],
   "source": [
    "import scipy\n",
    "import numpy as np\n",
    "\n",
    "mu = 12\n",
    "sigma = 1.9\n",
    "\n",
    "lowerbound = 0.5\n",
    "upperbound = 4\n",
    "\n",
    "# generate Gaussian function\n",
    "def gauss(x):\n",
    "    return scipy.stats.norm.pdf(x, mu, sigma)\n",
    "\n",
    "def f(x):\n",
    "    return ((x**2)/(3584/5))+x/42\n",
    "\n",
    "integral = scipy.integrate.quad(f, lowerbound, upperbound)\n",
    "print(integral)\n"
   ]
  },
  {
   "cell_type": "code",
   "execution_count": null,
   "metadata": {},
   "outputs": [],
   "source": []
  }
 ],
 "metadata": {
  "kernelspec": {
   "display_name": "venv",
   "language": "python",
   "name": "python3"
  },
  "language_info": {
   "codemirror_mode": {
    "name": "ipython",
    "version": 3
   },
   "file_extension": ".py",
   "mimetype": "text/x-python",
   "name": "python",
   "nbconvert_exporter": "python",
   "pygments_lexer": "ipython3",
   "version": "3.10.6"
  },
  "orig_nbformat": 4,
  "vscode": {
   "interpreter": {
    "hash": "bade3e3aff0733d373635494556d4b689b98ccf298d86ce8a9deca04bd6505bb"
   }
  }
 },
 "nbformat": 4,
 "nbformat_minor": 2
}

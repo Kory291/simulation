{
 "cells": [
  {
   "attachments": {},
   "cell_type": "markdown",
   "metadata": {},
   "source": [
    "# Gleichungen auflösen"
   ]
  },
  {
   "cell_type": "code",
   "execution_count": 24,
   "metadata": {},
   "outputs": [
    {
     "name": "stdout",
     "output_type": "stream",
     "text": [
      "-0.0027309*x**2 + 0.0081927*x + 0.109236\n",
      "(1.4999468249999999, 3.000562506035401e-14)\n",
      "[]\n",
      "0.5575942\n",
      "0.4424058\n"
     ]
    }
   ],
   "source": [
    "from sympy import Eq, symbols, solve, diff\n",
    "\n",
    "a, x = symbols('a x')\n",
    "\n",
    "def f(x):\n",
    "    return 0.0027309*(-x**3/3+3*x**2/2+40*x+725/6)\n",
    "\n",
    "print(diff(f(x)))\n",
    "\n",
    "def g(x):\n",
    "    return (-0.0027309*x**2 + 0.0081927*x + 0.109236)*x\n",
    "\n",
    "integral = scipy.integrate.quad(g, -5, 8)\n",
    "print(integral)\n",
    "\n",
    "eq1 = Eq(1, f(8)-f(-5))\n",
    "\n",
    "solution = solve(eq1, dict=True)\n",
    "print(solution)\n",
    "\n",
    "print(1-f(1))\n",
    "print(f(1))\n"
   ]
  },
  {
   "cell_type": "code",
   "execution_count": null,
   "metadata": {},
   "outputs": [],
   "source": []
  }
 ],
 "metadata": {
  "kernelspec": {
   "display_name": "Python 3",
   "language": "python",
   "name": "python3"
  },
  "language_info": {
   "codemirror_mode": {
    "name": "ipython",
    "version": 3
   },
   "file_extension": ".py",
   "mimetype": "text/x-python",
   "name": "python",
   "nbconvert_exporter": "python",
   "pygments_lexer": "ipython3",
   "version": "3.10.6"
  },
  "orig_nbformat": 4,
  "vscode": {
   "interpreter": {
    "hash": "916dbcbb3f70747c44a77c7bcd40155683ae19c65e1c03b4aa3499c5328201f1"
   }
  }
 },
 "nbformat": 4,
 "nbformat_minor": 2
}

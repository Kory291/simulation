{
 "cells": [
  {
   "attachments": {},
   "cell_type": "markdown",
   "metadata": {},
   "source": [
    "# Verteilungen"
   ]
  },
  {
   "attachments": {},
   "cell_type": "markdown",
   "metadata": {},
   "source": [
    "## diskrete Verteilungen"
   ]
  },
  {
   "cell_type": "code",
   "execution_count": 6,
   "metadata": {},
   "outputs": [
    {
     "name": "stdout",
     "output_type": "stream",
     "text": [
      "1.0\n",
      "Erwartungswert: 1.3333333333333335\n",
      "Varianz: 10.155555555555555\n",
      "Standardabweichung: 3.186778240724565\n",
      "0.9666666666666667\n"
     ]
    }
   ],
   "source": [
    "import math\n",
    "\n",
    "# Eingabe in Tupeln mit (Wert, Wahrscheinlichkeit)\n",
    "pairs = [(0, 4/5), (3, 1/10), (9, 1/15), (13, 1/30)]\n",
    "\n",
    "x = 0;\n",
    "for value, prob in pairs:\n",
    "    x += prob\n",
    "\n",
    "print(x)\n",
    "if abs(1 - x) > 0.5:\n",
    "    print(f\"Summe der Wahrscheinlichkeiten ist {x}. Die Abweichung {abs(1 - x)} ist zu groß\")\n",
    "\n",
    "erwartungswert = sum([value * prob for value, prob in pairs])\n",
    "varianz = sum([(value - erwartungswert)**2*prob for value, prob in pairs])\n",
    "standardabweichung = math.sqrt(varianz)\n",
    "\n",
    "print(f\"Erwartungswert: {erwartungswert}\")\n",
    "print(f\"Varianz: {varianz}\")\n",
    "print(f\"Standardabweichung: {standardabweichung}\")\n",
    "\n",
    "def verteilungsfunktion(obere_schranke):\n",
    "    x = 0\n",
    "    for value, prob in pairs:\n",
    "        if value <= obere_schranke:\n",
    "            x += prob\n",
    "    return x\n",
    "\n",
    "print(verteilungsfunktion(9.5))\n",
    "\n"
   ]
  },
  {
   "attachments": {},
   "cell_type": "markdown",
   "metadata": {},
   "source": [
    "## stetige Verteilungen"
   ]
  },
  {
   "cell_type": "code",
   "execution_count": 13,
   "metadata": {},
   "outputs": [
    {
     "name": "stdout",
     "output_type": "stream",
     "text": [
      "(-0.016202753936363033, 0.001670766212154659)\n"
     ]
    },
    {
     "name": "stderr",
     "output_type": "stream",
     "text": [
      "/tmp/ipykernel_685/2701294737.py:11: IntegrationWarning: The integral is probably divergent, or slowly convergent.\n",
      "  return scipy.integrate.quad(funktion, -numpy.inf, numpy.inf)\n"
     ]
    }
   ],
   "source": [
    "import numpy\n",
    "import scipy\n",
    "\n",
    "def f(x):\n",
    "    return (((x**2)/(3584/5))+x/42)*x\n",
    "\n",
    "def verteilungsfunktion(funktion, untere_schranke, obere_schranke):\n",
    "    return scipy.integrate.quad(funktion, untere_schranke, obere_schranke)\n",
    "\n",
    "def erwartungswert(funktion):\n",
    "    return scipy.integrate.quad(funktion, -numpy.inf, numpy.inf)\n",
    "\n",
    "def varianz(funktion):\n",
    "    pass\n",
    "\n",
    "def standardabweichung(funktion):\n",
    "    pass\n",
    "\n",
    "# print(verteilungsfunktion(f, 0.5, 4))\n",
    "print(erwartungswert(f))"
   ]
  },
  {
   "cell_type": "code",
   "execution_count": null,
   "metadata": {},
   "outputs": [],
   "source": []
  }
 ],
 "metadata": {
  "kernelspec": {
   "display_name": "venv",
   "language": "python",
   "name": "python3"
  },
  "language_info": {
   "codemirror_mode": {
    "name": "ipython",
    "version": 3
   },
   "file_extension": ".py",
   "mimetype": "text/x-python",
   "name": "python",
   "nbconvert_exporter": "python",
   "pygments_lexer": "ipython3",
   "version": "3.10.6"
  },
  "orig_nbformat": 4,
  "vscode": {
   "interpreter": {
    "hash": "bade3e3aff0733d373635494556d4b689b98ccf298d86ce8a9deca04bd6505bb"
   }
  }
 },
 "nbformat": 4,
 "nbformat_minor": 2
}

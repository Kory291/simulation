{
 "cells": [
  {
   "cell_type": "code",
   "execution_count": 1,
   "metadata": {},
   "outputs": [],
   "source": [
    "import numpy as np\n",
    "\n",
    "def m_te_uebergangsmatrix(uebergangsmatrix, m):\n",
    "    # m beschreibt die Anzahl der Schritte (= Potenz der Matrix)\n",
    "    result = uebergangsmatrix\n",
    "    for k in range(m - 1):\n",
    "        result = np.matmul(result, uebergangsmatrix)\n",
    "    return result"
   ]
  },
  {
   "cell_type": "code",
   "execution_count": 6,
   "metadata": {},
   "outputs": [
    {
     "name": "stdout",
     "output_type": "stream",
     "text": [
      "[ 2.58630451e-173  3.80007113e-173 -6.38637564e-173]\n"
     ]
    }
   ],
   "source": [
    "pi_0 = np.array([1/3, 1/3, 1/3])\n",
    "uebergangsmatrix = np.array([[0.65, 0.25, 0.1], [0.3, 0.45, 0.25], [0.15, 0.15, 0.70]])\n",
    "\n",
    "result = np.matmul(pi_0, m_te_uebergangsmatrix(uebergangsmatrix, m=2))\n",
    "print(result)"
   ]
  },
  {
   "cell_type": "code",
   "execution_count": null,
   "metadata": {},
   "outputs": [],
   "source": []
  }
 ],
 "metadata": {
  "kernelspec": {
   "display_name": "Python 3",
   "language": "python",
   "name": "python3"
  },
  "language_info": {
   "codemirror_mode": {
    "name": "ipython",
    "version": 3
   },
   "file_extension": ".py",
   "mimetype": "text/x-python",
   "name": "python",
   "nbconvert_exporter": "python",
   "pygments_lexer": "ipython3",
   "version": "3.10.6"
  },
  "orig_nbformat": 4,
  "vscode": {
   "interpreter": {
    "hash": "916dbcbb3f70747c44a77c7bcd40155683ae19c65e1c03b4aa3499c5328201f1"
   }
  }
 },
 "nbformat": 4,
 "nbformat_minor": 2
}

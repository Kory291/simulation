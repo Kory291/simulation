{
 "cells": [
  {
   "cell_type": "code",
   "execution_count": 12,
   "metadata": {},
   "outputs": [],
   "source": [
    "import numpy as np\n",
    "\n",
    "def m_te_uebergangsmatrix(uebergangsmatrix, m):\n",
    "    # m beschreibt die Anzahl der Schritte (= Potenz der Matrix)\n",
    "    result = uebergangsmatrix\n",
    "    for k in range(m - 1):\n",
    "        result = np.matmul(result, uebergangsmatrix)\n",
    "    return result"
   ]
  },
  {
   "cell_type": "code",
   "execution_count": 15,
   "metadata": {},
   "outputs": [
    {
     "name": "stdout",
     "output_type": "stream",
     "text": [
      "[0.453125 0.4375   0.109375]\n"
     ]
    }
   ],
   "source": [
    "pi_0 = np.array([1, 0, 0])\n",
    "uebergangsmatrix = np.array([[1/8, 0, 7/8], [3/4, 0, 1/4], [1/2, 1/2, 0]])\n",
    "\n",
    "result = np.matmul(pi_0, m_te_uebergangsmatrix(uebergangsmatrix, m=2))\n",
    "print(result)"
   ]
  },
  {
   "cell_type": "code",
   "execution_count": null,
   "metadata": {},
   "outputs": [],
   "source": []
  }
 ],
 "metadata": {
  "kernelspec": {
   "display_name": "venv",
   "language": "python",
   "name": "python3"
  },
  "language_info": {
   "codemirror_mode": {
    "name": "ipython",
    "version": 3
   },
   "file_extension": ".py",
   "mimetype": "text/x-python",
   "name": "python",
   "nbconvert_exporter": "python",
   "pygments_lexer": "ipython3",
   "version": "3.10.6"
  },
  "orig_nbformat": 4,
  "vscode": {
   "interpreter": {
    "hash": "00ee77d9f845f52d38ec779c87c87ec8399b1dbbb8a1a9dc39e5f827b16b9d79"
   }
  }
 },
 "nbformat": 4,
 "nbformat_minor": 2
}

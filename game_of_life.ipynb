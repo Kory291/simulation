{
 "cells": [
  {
   "cell_type": "markdown",
   "metadata": {},
   "source": [
    "## Game of Life\n",
    "\n",
    "##### Definition:      \n",
    "\n",
    "0 := Tote Zelle      \n",
    "1 := Lebende Zelle\n",
    "\n",
    "#### Regeln:\n"
   ]
  },
  {
   "cell_type": "code",
   "execution_count": 1,
   "metadata": {},
   "outputs": [],
   "source": [
    "import numpy as np\n",
    "import matplotlib.pyplot as plt"
   ]
  },
  {
   "cell_type": "code",
   "execution_count": 12,
   "metadata": {},
   "outputs": [
    {
     "name": "stdout",
     "output_type": "stream",
     "text": [
      "[[1 1 0 0 1]\n",
      " [0 0 1 0 0]\n",
      " [1 0 1 0 1]\n",
      " [0 1 1 1 0]\n",
      " [1 0 1 0 0]]\n",
      "5\n"
     ]
    }
   ],
   "source": [
    "# teste Game of life\n",
    "m, n = 5, 5\n",
    "a = np.random.randint(0, 2, size=(m, n))\n",
    "print(a)\n",
    "print(len(a[0]))"
   ]
  },
  {
   "cell_type": "code",
   "execution_count": 16,
   "metadata": {},
   "outputs": [
    {
     "data": {
      "text/plain": [
       "1"
      ]
     },
     "execution_count": 16,
     "metadata": {},
     "output_type": "execute_result"
    }
   ],
   "source": [
    "def lnc(i, j, a):\n",
    "    m, n = np.size(a, 0), np.size(a, 1) # Zeilen- und Spaltenzahl\n",
    "    k = 0 - a[i, j]\n",
    "    for ii in range(max(i - 1, 0), min(i + 2, m)):\n",
    "        for jj in range(max(j - 1, 0), min(j + 2, n)):\n",
    "            k += a[ii,jj]\n",
    "    return k\n",
    "lnc(0, 0, a)"
   ]
  },
  {
   "cell_type": "markdown",
   "metadata": {},
   "source": [
    "## Initialisiere Game of Life"
   ]
  },
  {
   "cell_type": "code",
   "execution_count": 41,
   "metadata": {},
   "outputs": [],
   "source": [
    "# teste Game of life\n",
    "m, n = 30, 30\n",
    "a = np.random.randint(0, 2, size=(m, n))\n",
    "MAX_ITER = 50\n"
   ]
  },
  {
   "cell_type": "code",
   "execution_count": 42,
   "metadata": {},
   "outputs": [
    {
     "data": {
      "image/png": "[encoded data removed]",
      "text/plain": [
       "<Figure size 640x480 with 1 Axes>"
      ]
     },
     "metadata": {},
     "output_type": "display_data"
    }
   ],
   "source": [
    "# Output vorbereiten\n",
    "from IPython.display import clear_output, display\n",
    "import time\n",
    "\n",
    "fig = plt.figure()\n",
    "ax = fig.add_subplot()\n"
   ]
  },
  {
   "cell_type": "code",
   "execution_count": 43,
   "metadata": {},
   "outputs": [
    {
     "data": {
      "image/png": "[encoded data removed]",
      "text/plain": [
       "<Figure size 640x480 with 1 Axes>"
      ]
     },
     "metadata": {},
     "output_type": "display_data"
    }
   ],
   "source": [
    "# neue Generationen berechnen\n",
    "a_neu = np.copy(a)\n",
    "for its in range(MAX_ITER):\n",
    "    for i in range(m):\n",
    "        for j in range(n):\n",
    "            if a[i, j] == 1 and (lnc(i, j, a) < 2 or lnc(i, j, a) > 3):\n",
    "                a_neu[i, j] = 0\n",
    "            elif a[i, j] == 0 and lnc(i, j, a) == 3:\n",
    "                a_neu[i, j] = 1\n",
    "    if (a == a_neu).all() or (a_neu == np.zeros((m, n))).all():\n",
    "        break\n",
    "    else:\n",
    "        ax.spy(a_neu) # spy ... sparsity := plotte alle Zellen, die ungleich 0 sind\n",
    "        display(fig)\n",
    "        clear_output(wait = True)\n",
    "        a = np.copy(a_neu)"
   ]
  },
  {
   "cell_type": "code",
   "execution_count": null,
   "metadata": {},
   "outputs": [],
   "source": []
  }
 ],
 "metadata": {
  "kernelspec": {
   "display_name": "Python 3.10.6 64-bit",
   "language": "python",
   "name": "python3"
  },
  "language_info": {
   "codemirror_mode": {
    "name": "ipython",
    "version": 3
   },
   "file_extension": ".py",
   "mimetype": "text/x-python",
   "name": "python",
   "nbconvert_exporter": "python",
   "pygments_lexer": "ipython3",
   "version": "3.10.6"
  },
  "orig_nbformat": 4,
  "vscode": {
   "interpreter": {
    "hash": "916dbcbb3f70747c44a77c7bcd40155683ae19c65e1c03b4aa3499c5328201f1"
   }
  }
 },
 "nbformat": 4,
 "nbformat_minor": 2
}

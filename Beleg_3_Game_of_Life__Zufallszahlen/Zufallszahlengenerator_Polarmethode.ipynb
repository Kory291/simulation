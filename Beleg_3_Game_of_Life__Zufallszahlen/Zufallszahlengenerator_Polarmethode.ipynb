{
 "cells": [
  {
   "attachments": {},
   "cell_type": "markdown",
   "metadata": {},
   "source": [
    "# Erstellung von pseudo-normalverteilten Zufallszahlen mit der Polarmethode"
   ]
  },
  {
   "cell_type": "code",
   "execution_count": 8,
   "metadata": {},
   "outputs": [
    {
     "name": "stdout",
     "output_type": "stream",
     "text": [
      "501\n",
      "16.885585230896 3.3001006301214937\n",
      "798\n",
      "0.3308270676691729\n"
     ]
    }
   ],
   "source": [
    "import numpy as np\n",
    "\n",
    "m = 1764\n",
    "a = 85\n",
    "c = 353\n",
    "\n",
    "my = 17\n",
    "sigma = 3.3\n",
    "\n",
    "lower_bound = 14\n",
    "upper_bound = 17\n",
    "\n",
    "n = 500\n",
    "\n",
    "x = [113]\n",
    "u = []\n",
    "z = []\n",
    "\n",
    "for k in range(n + 1):\n",
    "    new_x = (a * x[-1] + c) % m\n",
    "    x.append(new_x)\n",
    "    u.append(2 * (new_x / m) - 1)\n",
    "\n",
    "for i in range(len(u) - 1):\n",
    "    r = u[i]**2 + u[i + 1]**2\n",
    "    if (r <= 1) and (r != 0):\n",
    "        p = np.sqrt(-(2 / r) * np.log(r))\n",
    "        z.append(sigma * u[i] * p + my)\n",
    "        z.append(sigma * u[i + 1] * p + my)\n",
    "\n",
    "print(len(u))\n",
    "calc_my = 1 / len(z) * sum(z)\n",
    "calc_sigma = np.sqrt(1 / len(z) * sum([(calc_my - current_z)**2 for current_z in z]))\n",
    "\n",
    "print(calc_my, calc_sigma)\n",
    "print(len(z))\n",
    "\n",
    "filtered_list = [current_z for current_z in z if lower_bound <= current_z <= upper_bound]\n",
    "\n",
    "# Berechne Anteil der den Grenzen entspricht\n",
    "cdf = len(filtered_list) / len(z)\n",
    "\n",
    "print(cdf)"
   ]
  },
  {
   "attachments": {},
   "cell_type": "markdown",
   "metadata": {},
   "source": [
    "## Genaue Lösung"
   ]
  },
  {
   "cell_type": "code",
   "execution_count": null,
   "metadata": {},
   "outputs": [],
   "source": [
    "import scipy\n",
    "import numpy as np\n",
    "\n",
    "# generate Gaussian function\n",
    "def gauss(x):\n",
    "    return scipy.stats.norm.pdf(x, my, sigma)\n",
    "\n",
    "integral = scipy.integrate.quad(gauss, lower_bound, upper_bound)\n",
    "print(integral)\n"
   ]
  }
 ],
 "metadata": {
  "kernelspec": {
   "display_name": "venv",
   "language": "python",
   "name": "python3"
  },
  "language_info": {
   "codemirror_mode": {
    "name": "ipython",
    "version": 3
   },
   "file_extension": ".py",
   "mimetype": "text/x-python",
   "name": "python",
   "nbconvert_exporter": "python",
   "pygments_lexer": "ipython3",
   "version": "3.10.6"
  },
  "orig_nbformat": 4,
  "vscode": {
   "interpreter": {
    "hash": "bade3e3aff0733d373635494556d4b689b98ccf298d86ce8a9deca04bd6505bb"
   }
  }
 },
 "nbformat": 4,
 "nbformat_minor": 2
}

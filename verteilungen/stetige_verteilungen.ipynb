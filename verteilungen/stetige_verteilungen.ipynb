{
 "cells": [
  {
   "cell_type": "code",
   "execution_count": 13,
   "metadata": {},
   "outputs": [
    {
     "name": "stdout",
     "output_type": "stream",
     "text": [
      "(0.235693359375, 2.616721943293765e-15)\n",
      "(1.0, 1.1102230246251565e-14)\n",
      "Erwartungswert: 5.390476190476191\n",
      "Varianz: 3.4913378684807257\n",
      "Standardabweichung: 1.8685122072067728\n"
     ]
    }
   ],
   "source": [
    "import numpy\n",
    "import scipy\n",
    "import math\n",
    "\n",
    "# Schranken, wo die Dichtefunktion nicht null ist\n",
    "unterer_def_bereich = 0\n",
    "oberer_def_bereich = 8\n",
    "\n",
    "def f(x):\n",
    "    return (x**2/(17920/9)) + x/35\n",
    "\n",
    "def verteilungsfunktion(funktion, untere_schranke, obere_schranke):\n",
    "    return scipy.integrate.quad(funktion, untere_schranke, obere_schranke)\n",
    "\n",
    "def erwartungswert():\n",
    "    def g(x):\n",
    "        return f(x) * x\n",
    "    return scipy.integrate.quad(g, unterer_def_bereich, oberer_def_bereich)\n",
    "\n",
    "print(verteilungsfunktion(f, 0.5, 4))\n",
    "print(verteilungsfunktion(f, unterer_def_bereich, oberer_def_bereich))\n",
    "my = erwartungswert()[0]\n",
    "\n",
    "print(f\"Erwartungswert: {my}\")\n",
    "\n",
    "def varianz():\n",
    "    def g(x):\n",
    "        return f(x) * (x - my)**2\n",
    "    return  scipy.integrate.quad(g, unterer_def_bereich, oberer_def_bereich)\n",
    "\n",
    "var = varianz()[0]\n",
    "print(f\"Varianz: {var}\")\n",
    "\n",
    "def standardabweichung():\n",
    "    return math.sqrt(var) \n",
    "\n",
    "s_abweichung = standardabweichung()\n",
    "print(f\"Standardabweichung: {s_abweichung}\")\n",
    "\n"
   ]
  },
  {
   "cell_type": "code",
   "execution_count": null,
   "metadata": {},
   "outputs": [],
   "source": []
  }
 ],
 "metadata": {
  "kernelspec": {
   "display_name": "venv",
   "language": "python",
   "name": "python3"
  },
  "language_info": {
   "codemirror_mode": {
    "name": "ipython",
    "version": 3
   },
   "file_extension": ".py",
   "mimetype": "text/x-python",
   "name": "python",
   "nbconvert_exporter": "python",
   "pygments_lexer": "ipython3",
   "version": "3.10.6"
  },
  "orig_nbformat": 4,
  "vscode": {
   "interpreter": {
    "hash": "bade3e3aff0733d373635494556d4b689b98ccf298d86ce8a9deca04bd6505bb"
   }
  }
 },
 "nbformat": 4,
 "nbformat_minor": 2
}

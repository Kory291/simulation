{
 "cells": [
  {
   "attachments": {},
   "cell_type": "markdown",
   "metadata": {},
   "source": [
    "## diskrete Verteilungen"
   ]
  },
  {
   "attachments": {},
   "cell_type": "markdown",
   "metadata": {},
   "source": [
    "## allgemein"
   ]
  },
  {
   "cell_type": "code",
   "execution_count": 1,
   "metadata": {},
   "outputs": [
    {
     "name": "stdout",
     "output_type": "stream",
     "text": [
      "1.0\n",
      "Erwartungswert: 1.3333333333333335\n",
      "Varianz: 10.155555555555555\n",
      "Standardabweichung: 3.186778240724565\n",
      "0.9666666666666667\n"
     ]
    }
   ],
   "source": [
    "import math\n",
    "\n",
    "# Eingabe in Tupeln mit (Wert, Wahrscheinlichkeit)\n",
    "pairs = [(0, 4/5), (3, 1/10), (9, 1/15), (13, 1/30)]\n",
    "\n",
    "x = 0;\n",
    "for value, prob in pairs:\n",
    "    x += prob\n",
    "\n",
    "print(x)\n",
    "if abs(1 - x) > 0.5:\n",
    "    print(f\"Summe der Wahrscheinlichkeiten ist {x}. Die Abweichung {abs(1 - x)} ist zu groß\")\n",
    "\n",
    "erwartungswert = sum([value * prob for value, prob in pairs])\n",
    "varianz = sum([(value - erwartungswert)**2*prob for value, prob in pairs])\n",
    "standardabweichung = math.sqrt(varianz)\n",
    "\n",
    "print(f\"Erwartungswert: {erwartungswert}\")\n",
    "print(f\"Varianz: {varianz}\")\n",
    "print(f\"Standardabweichung: {standardabweichung}\")\n",
    "\n",
    "def verteilungsfunktion(obere_schranke):\n",
    "    x = 0\n",
    "    for value, prob in pairs:\n",
    "        if value <= obere_schranke:\n",
    "            x += prob\n",
    "    return x\n",
    "\n",
    "print(verteilungsfunktion(9.5))\n",
    "\n"
   ]
  },
  {
   "attachments": {},
   "cell_type": "markdown",
   "metadata": {},
   "source": [
    "## Binomial"
   ]
  },
  {
   "cell_type": "code",
   "execution_count": 37,
   "metadata": {},
   "outputs": [
    {
     "name": "stdout",
     "output_type": "stream",
     "text": [
      "Varianz: 1.47\n",
      "Erwartungswert: 2.1\n",
      "0.3176522999999999\n"
     ]
    }
   ],
   "source": [
    "import math\n",
    "n, p = 7, 6/20\n",
    "\n",
    "def binomial_f(x):\n",
    "    return math.factorial(n)/(math.factorial(x)*(math.factorial(n-x)))*p**x*(1-p)**(n-x)\n",
    "\n",
    "def binomial_F(x):\n",
    "    # Berechne F(X <= x)\n",
    "    return sum(binomial_f(k) for k in range(x + 1))\n",
    "    \n",
    "\n",
    "erwartungswert = n * p\n",
    "varianz = n*p*(1-p)\n",
    "print(f\"Varianz: {varianz}\")\n",
    "print(f\"Erwartungswert: {erwartungswert}\")\n",
    "print(binomial_f(2))\n",
    "\n"
   ]
  },
  {
   "attachments": {},
   "cell_type": "markdown",
   "metadata": {},
   "source": [
    "## Poisson-Verteilung"
   ]
  },
  {
   "cell_type": "code",
   "execution_count": 30,
   "metadata": {},
   "outputs": [
    {
     "name": "stdout",
     "output_type": "stream",
     "text": [
      "0.5595067149347874\n"
     ]
    }
   ],
   "source": [
    "import math\n",
    "\n",
    "# muss größer als 0 sein\n",
    "lmda = 5\n",
    "\n",
    "erwartungswert = lmda\n",
    "varianz = lmda\n",
    "\n",
    "def poisson_f(x):\n",
    "    return lmda**x/math.factorial(x)*math.e**(-lmda)\n",
    "\n",
    "def poisson_F(x):\n",
    "    # Berechne F(X <= x)\n",
    "    return math.e**(-lmda) * sum([lmda**k/math.factorial(k) for k in range(x + 1)])\n",
    "\n",
    "print(1 - poisson_F(4))"
   ]
  },
  {
   "cell_type": "code",
   "execution_count": null,
   "metadata": {},
   "outputs": [],
   "source": []
  }
 ],
 "metadata": {
  "kernelspec": {
   "display_name": "venv",
   "language": "python",
   "name": "python3"
  },
  "language_info": {
   "codemirror_mode": {
    "name": "ipython",
    "version": 3
   },
   "file_extension": ".py",
   "mimetype": "text/x-python",
   "name": "python",
   "nbconvert_exporter": "python",
   "pygments_lexer": "ipython3",
   "version": "3.10.6"
  },
  "orig_nbformat": 4,
  "vscode": {
   "interpreter": {
    "hash": "bade3e3aff0733d373635494556d4b689b98ccf298d86ce8a9deca04bd6505bb"
   }
  }
 },
 "nbformat": 4,
 "nbformat_minor": 2
}

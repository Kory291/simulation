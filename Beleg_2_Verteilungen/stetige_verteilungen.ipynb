{
 "cells": [
  {
   "attachments": {},
   "cell_type": "markdown",
   "metadata": {},
   "source": [
    "# Stetige Verteilungen\n",
    "## Allgemeine stetige Verteilungen"
   ]
  },
  {
   "cell_type": "code",
   "execution_count": 13,
   "metadata": {},
   "outputs": [
    {
     "name": "stdout",
     "output_type": "stream",
     "text": [
      "(0.235693359375, 2.616721943293765e-15)\n",
      "(1.0, 1.1102230246251565e-14)\n",
      "Erwartungswert: 5.390476190476191\n",
      "Varianz: 3.4913378684807257\n",
      "Standardabweichung: 1.8685122072067728\n"
     ]
    }
   ],
   "source": [
    "import numpy\n",
    "import scipy\n",
    "import math\n",
    "\n",
    "# Schranken, wo die Dichtefunktion nicht null ist\n",
    "unterer_def_bereich = 0\n",
    "oberer_def_bereich = 8\n",
    "\n",
    "def f(x):\n",
    "    return (x**2/(17920/9)) + x/35\n",
    "\n",
    "def verteilungsfunktion(funktion, untere_schranke, obere_schranke):\n",
    "    return scipy.integrate.quad(funktion, untere_schranke, obere_schranke)\n",
    "\n",
    "def erwartungswert():\n",
    "    def g(x):\n",
    "        return f(x) * x\n",
    "    return scipy.integrate.quad(g, unterer_def_bereich, oberer_def_bereich)\n",
    "\n",
    "print(verteilungsfunktion(f, 0.5, 4))\n",
    "print(verteilungsfunktion(f, unterer_def_bereich, oberer_def_bereich))\n",
    "my = erwartungswert()[0]\n",
    "\n",
    "print(f\"Erwartungswert: {my}\")\n",
    "\n",
    "def varianz():\n",
    "    def g(x):\n",
    "        return f(x) * (x - my)**2\n",
    "    return  scipy.integrate.quad(g, unterer_def_bereich, oberer_def_bereich)\n",
    "\n",
    "var = varianz()[0]\n",
    "print(f\"Varianz: {var}\")\n",
    "\n",
    "def standardabweichung():\n",
    "    return math.sqrt(var) \n",
    "\n",
    "s_abweichung = standardabweichung()\n",
    "print(f\"Standardabweichung: {s_abweichung}\")\n",
    "\n"
   ]
  },
  {
   "attachments": {},
   "cell_type": "markdown",
   "metadata": {},
   "source": [
    "## spezielle Verteilungen\n"
   ]
  },
  {
   "attachments": {},
   "cell_type": "markdown",
   "metadata": {},
   "source": [
    "### Normalverteilung"
   ]
  },
  {
   "cell_type": "code",
   "execution_count": 26,
   "metadata": {},
   "outputs": [
    {
     "name": "stdout",
     "output_type": "stream",
     "text": [
      "0.9900049353685264\n"
     ]
    }
   ],
   "source": [
    "import numpy as np\n",
    "import math\n",
    "import scipy\n",
    "import sympy\n",
    "\n",
    "my = 3.45 # Mittelwert\n",
    "sigma = 0.6 # Standardabweichung\n",
    "\n",
    "def normal_f(x):\n",
    "    return 1/math.sqrt(2*math.pi*sigma**2)*math.e**(-1/2*((x-my)/sigma)**2)\n",
    "\n",
    "def normal_F(x):\n",
    "    # Berechne P(X <= x)\n",
    "    return scipy.integrate.quad(normal_f, -np.inf, x)\n",
    "\n",
    "# print(1 - normal_F(4.09)[0])\n",
    "# print(normal_F(5.01)[0] - normal_F(2.93)[0])\n",
    "\n",
    "k = 1.5456\n",
    "print(normal_F(my+k)[0] - normal_F(my-k)[0])"
   ]
  },
  {
   "attachments": {},
   "cell_type": "markdown",
   "metadata": {},
   "source": [
    "### Exponentialverteilung"
   ]
  },
  {
   "cell_type": "code",
   "execution_count": 33,
   "metadata": {},
   "outputs": [
    {
     "name": "stdout",
     "output_type": "stream",
     "text": [
      "0.9816843611112658\n",
      "Erwartungswert: 2.0\n",
      "Varianz: 4.0\n"
     ]
    }
   ],
   "source": [
    "import math\n",
    "import scipy\n",
    "import numpy as np\n",
    "\n",
    "lmda = 1/2\n",
    "erwartungswert = 1/lmda\n",
    "varianz = 1/lmda**2\n",
    "\n",
    "def expo_f(x):\n",
    "    return lmda * math.e**(-lmda*x)\n",
    "\n",
    "def expo_F(x):\n",
    "    return 1 - math.e**(-lmda*x)\n",
    "\n",
    "print(expo_F(8))\n",
    "print(f\"Erwartungswert: {erwartungswert}\")\n",
    "print(f\"Varianz: {varianz}\")"
   ]
  },
  {
   "cell_type": "code",
   "execution_count": null,
   "metadata": {},
   "outputs": [],
   "source": []
  }
 ],
 "metadata": {
  "kernelspec": {
   "display_name": "venv",
   "language": "python",
   "name": "python3"
  },
  "language_info": {
   "codemirror_mode": {
    "name": "ipython",
    "version": 3
   },
   "file_extension": ".py",
   "mimetype": "text/x-python",
   "name": "python",
   "nbconvert_exporter": "python",
   "pygments_lexer": "ipython3",
   "version": "3.10.6"
  },
  "orig_nbformat": 4,
  "vscode": {
   "interpreter": {
    "hash": "bade3e3aff0733d373635494556d4b689b98ccf298d86ce8a9deca04bd6505bb"
   }
  }
 },
 "nbformat": 4,
 "nbformat_minor": 2
}

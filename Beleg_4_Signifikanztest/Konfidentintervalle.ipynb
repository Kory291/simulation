{
 "cells": [
  {
   "attachments": {},
   "cell_type": "markdown",
   "metadata": {},
   "source": [
    "# Punktschätzung\n",
    "\n",
    "Berechne die Werte den geschätzten Mittelwert und die geschätzte Varianz\n",
    "\n",
    "- Mittelwert: $\\hat{x} = \\hat{µ}=\\frac{1}{n} * \\sum_{i=1}^n x_{i} $\n",
    "- Varianz: $\\sigma^2 = s^2 = \\frac{1}{1-n}* \\sum_{i=1}^n (x_{i} - \\hat{x})^2$"
   ]
  },
  {
   "cell_type": "code",
   "execution_count": 38,
   "metadata": {},
   "outputs": [
    {
     "name": "stdout",
     "output_type": "stream",
     "text": [
      "Mittelwert: 176.0\n",
      "Varianz: 186.44444444444443\n",
      "Standardabweichung: 13.654466098842695\n",
      "Umfang n: 10\n"
     ]
    }
   ],
   "source": [
    "import math\n",
    "\n",
    "x = [195, 178, 185, 151, 160, 175, 188, 187, 167, 174]\n",
    "\n",
    "gamma = 0.9\n",
    "x_quer = sum(x) * 1/len(x)\n",
    "var_schaetz = 1/(len(x) - 1) * sum([(x_i - x_quer)**2 for x_i in x])\n",
    "s = math.sqrt(var_schaetz)\n",
    "n = len(x)\n",
    "\n",
    "print(f\"Mittelwert: {x_quer}\")\n",
    "print(f\"Varianz: {var_schaetz}\")\n",
    "print(f\"Standardabweichung: {s}\")\n",
    "print(f\"Umfang n: {n}\")"
   ]
  },
  {
   "attachments": {},
   "cell_type": "markdown",
   "metadata": {},
   "source": [
    "# Bereichsschätzung\n"
   ]
  },
  {
   "attachments": {},
   "cell_type": "markdown",
   "metadata": {},
   "source": [
    "## Konfidenzintervalle für den Mittelwert"
   ]
  },
  {
   "cell_type": "code",
   "execution_count": 1,
   "metadata": {},
   "outputs": [
    {
     "name": "stdout",
     "output_type": "stream",
     "text": [
      "Genutze Größen:\n",
      "Mittelwert: 8.1\n",
      "Varianz: 0.25\n",
      "Standardabweichung: 0.5\n",
      "Stichprobenumfang n: 19\n",
      "Freiheitsgrade f: 18\n",
      "\n",
      "Das 0.95-Quantil der Student-t-Verteilung: 2.10092204024096\n",
      "Untere Grenze: 7.859007714166641, Obere Grenze: 8.340992285833359\n",
      "7.859007714166641 <= µ <= 8.340992285833359\n"
     ]
    }
   ],
   "source": [
    "import numpy as np\n",
    "import scipy\n",
    "import math\n",
    "\n",
    "gamma = 0.95\n",
    "# Übernehme x_quer und / oder var_schaetz aus oberer Aufgabe oder trage es hier selbst ein\n",
    "x_quer = 8.1\n",
    "var_schaetz = 0.5**2\n",
    "s = math.sqrt(var_schaetz)\n",
    "n = 19\n",
    "f = n - 1\n",
    "\n",
    "quantil = (gamma + 1) / 2\n",
    "c = scipy.stats.t.ppf(quantil, f)\n",
    "\n",
    "# Obere und untere Grenzen bestimmen\n",
    "c_oben = x_quer + s/math.sqrt(n) * c\n",
    "c_unten = x_quer - s/math.sqrt(n) * c\n",
    "\n",
    "print(\"Genutze Größen:\")\n",
    "print(f\"Mittelwert: {x_quer}\")\n",
    "print(f\"Varianz: {var_schaetz}\")\n",
    "print(f\"Standardabweichung: {s}\")\n",
    "print(f\"Stichprobenumfang n: {n}\")\n",
    "print(f\"Freiheitsgrade f: {f}\")\n",
    "print(\"\")\n",
    "print(f\"Das {gamma}-Quantil der Student-t-Verteilung: {c}\")\n",
    "print(f\"Untere Grenze: {c_unten}, Obere Grenze: {c_oben}\")\n",
    "print(f\"{c_unten} <= µ <= {c_oben}\")\n"
   ]
  },
  {
   "attachments": {},
   "cell_type": "markdown",
   "metadata": {},
   "source": [
    "## Konfidenzintervalle für die Varianz"
   ]
  },
  {
   "cell_type": "code",
   "execution_count": 40,
   "metadata": {},
   "outputs": [
    {
     "name": "stdout",
     "output_type": "stream",
     "text": [
      "Genutze Größen:\n",
      "Mittelwert: 176.0\n",
      "Varianz: 186.44444444444443\n",
      "Standardabweichung: 13.654466098842695\n",
      "Stichprobenumfang n: 10\n",
      "Freiheitsgrade f: 9\n",
      "\n",
      "c_1: 3.325112843066815, c_2: 16.918977604620448\n",
      "99.17856972289805 <= Var <= 504.64452762822583\n"
     ]
    }
   ],
   "source": [
    "import numpy as np\n",
    "import scipy\n",
    "import math\n",
    "\n",
    "# gamma = 0.95\n",
    "# Übernehme x_quer und / oder var_schaetz aus oberer Aufgabe oder trage es hier selbst ein\n",
    "# x_quer = 58\n",
    "# var_schaetz = 20\n",
    "s = math.sqrt(var_schaetz)\n",
    "# n = 18\n",
    "f = n - 1\n",
    "\n",
    "c_1 = scipy.stats.chi2.ppf((1-gamma)/2, f)\n",
    "c_2 = scipy.stats.chi2.ppf((1+gamma)/2, f)\n",
    "\n",
    "c_unten = var_schaetz*(n-1) / c_2\n",
    "c_oben = var_schaetz*(n-1) / c_1\n",
    "\n",
    "print(\"Genutze Größen:\")\n",
    "print(f\"Mittelwert: {x_quer}\")\n",
    "print(f\"Varianz: {var_schaetz}\")\n",
    "print(f\"Standardabweichung: {s}\")\n",
    "print(f\"Stichprobenumfang n: {n}\")\n",
    "print(f\"Freiheitsgrade f: {f}\")\n",
    "print(\"\")\n",
    "print(f\"c_1: {c_1}, c_2: {c_2}\")\n",
    "print(f\"{c_unten} <= Var <= {c_oben}\")"
   ]
  },
  {
   "cell_type": "code",
   "execution_count": null,
   "metadata": {},
   "outputs": [],
   "source": []
  }
 ],
 "metadata": {
  "kernelspec": {
   "display_name": "venv",
   "language": "python",
   "name": "python3"
  },
  "language_info": {
   "codemirror_mode": {
    "name": "ipython",
    "version": 3
   },
   "file_extension": ".py",
   "mimetype": "text/x-python",
   "name": "python",
   "nbconvert_exporter": "python",
   "pygments_lexer": "ipython3",
   "version": "3.10.6"
  },
  "orig_nbformat": 4,
  "vscode": {
   "interpreter": {
    "hash": "00ee77d9f845f52d38ec779c87c87ec8399b1dbbb8a1a9dc39e5f827b16b9d79"
   }
  }
 },
 "nbformat": 4,
 "nbformat_minor": 2
}

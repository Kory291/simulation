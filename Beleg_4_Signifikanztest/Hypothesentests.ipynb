{
 "cells": [
  {
   "attachments": {},
   "cell_type": "markdown",
   "metadata": {},
   "source": [
    "# Hypothesentests"
   ]
  },
  {
   "attachments": {},
   "cell_type": "markdown",
   "metadata": {},
   "source": [
    "## zweiseitige Hypothesentests"
   ]
  },
  {
   "cell_type": "code",
   "execution_count": 6,
   "metadata": {},
   "outputs": [
    {
     "name": "stdout",
     "output_type": "stream",
     "text": [
      "Genutze Größen:\n",
      "Mittelwert aus Stichprobe: 142\n",
      "Sollmittelwert: 140\n",
      "Varianz: 23.04\n",
      "Standardabweichung: 4.8\n",
      "Stichprobenumfang n: 17\n",
      "Freiheitsgrade f: 16\n",
      "Testwert û: 1.7179606773406921\n",
      "Das 0.95-Quantil der Student-t-Verteilung: 2.1199052992210112\n",
      "---------\n",
      "Nullhypothese wird beibehalten, weil 1.7179606773406921 in [-2.1199052992210112, 2.1199052992210112] liegt\n"
     ]
    }
   ],
   "source": [
    "import numpy as np\n",
    "import scipy\n",
    "import math\n",
    "\n",
    "gamma = 0.95\n",
    "alpha = 0.05\n",
    "assert gamma + alpha == 1\n",
    "# Übernehme x_quer und / oder var_schaetz aus oberer Aufgabe oder trage es hier selbst ein\n",
    "x_quer = 142 # Aus Stichprobe ermittelt\n",
    "my_0 = 140 # Sollwert\n",
    "var_schaetz = 4.8**2\n",
    "s = math.sqrt(var_schaetz)\n",
    "n = 17\n",
    "f = n - 1\n",
    "\n",
    "quantil = (gamma + 1) / 2\n",
    "c = scipy.stats.t.ppf(quantil, f)\n",
    "u_hut = (x_quer - my_0) / (s/math.sqrt(n))\n",
    "\n",
    "print(\"Genutze Größen:\")\n",
    "print(f\"Mittelwert aus Stichprobe: {x_quer}\")\n",
    "print(f\"Sollmittelwert: {my_0}\")\n",
    "print(f\"Varianz: {var_schaetz}\")\n",
    "print(f\"Standardabweichung: {s}\")\n",
    "print(f\"Stichprobenumfang n: {n}\")\n",
    "print(f\"Freiheitsgrade f: {f}\")\n",
    "print(f\"Testwert û: {u_hut}\")\n",
    "print(f\"Das {gamma}-Quantil der Student-t-Verteilung: {c}\")\n",
    "print(f\"---------\")\n",
    "if -c <= u_hut <= c:\n",
    "    print(f\"Nullhypothese wird beibehalten, weil {u_hut} in [{-c}, {c}] liegt\")\n",
    "else:\n",
    "    print(f\"Nullhypothese wird verworfen, weil {u_hut} nicht in [{-c}, {c}] liegt\")"
   ]
  },
  {
   "attachments": {},
   "cell_type": "markdown",
   "metadata": {},
   "source": [
    "## einseite Hypothesentests"
   ]
  },
  {
   "cell_type": "code",
   "execution_count": 21,
   "metadata": {},
   "outputs": [
    {
     "name": "stdout",
     "output_type": "stream",
     "text": [
      "Genutze Größen:\n",
      "Mittelwert aus Stichprobe: 8.3\n",
      "Sollmittelwert: 8.4\n",
      "Varianz: 0.48999999999999994\n",
      "Standardabweichung: 0.7\n",
      "Stichprobenumfang n: 11\n",
      "Freiheitsgrade f: 10\n",
      "Das 0.95-Quantil der Student-t-Verteilung: -1.8124611228107335\n",
      "Testwert t_hut: -0.4738035414793412\n"
     ]
    }
   ],
   "source": [
    "import numpy as np\n",
    "import scipy\n",
    "import math\n",
    "from IPython.display import display, Markdown\n",
    "\n",
    "gamma = 0.95\n",
    "alpha = 0.05\n",
    "assert gamma + alpha == 1\n",
    "# Übernehme x_quer und / oder var_schaetz aus oberer Aufgabe oder trage es hier selbst ein\n",
    "x_quer = 8.3 # Aus Stichprobe ermittelt\n",
    "my_0 = 8.4 # Sollwert\n",
    "var_schaetz = 0.7**2\n",
    "s = math.sqrt(var_schaetz)\n",
    "n = 11\n",
    "f = n - 1\n",
    "\n",
    "quantil = gamma\n",
    "c = -scipy.stats.t.ppf(quantil, f)\n",
    "t_hut = (x_quer - my_0) / (s/math.sqrt(n))\n",
    "\n",
    "print(\"Genutze Größen:\")\n",
    "print(f\"Mittelwert aus Stichprobe: {x_quer}\")\n",
    "print(f\"Sollmittelwert: {my_0}\")\n",
    "print(f\"Varianz: {var_schaetz}\")\n",
    "print(f\"Standardabweichung: {s}\")\n",
    "print(f\"Stichprobenumfang n: {n}\")\n",
    "print(f\"Freiheitsgrade f: {f}\")\n",
    "\n",
    "print(f\"Das {gamma}-Quantil der Student-t-Verteilung: {c}\")\n",
    "print(f\"Testwert t_hut: {t_hut}\")\n",
    "# display(Markdown(r\"$\\hat{t}$\"))"
   ]
  },
  {
   "cell_type": "code",
   "execution_count": null,
   "metadata": {},
   "outputs": [],
   "source": []
  }
 ],
 "metadata": {
  "kernelspec": {
   "display_name": "venv",
   "language": "python",
   "name": "python3"
  },
  "language_info": {
   "codemirror_mode": {
    "name": "ipython",
    "version": 3
   },
   "file_extension": ".py",
   "mimetype": "text/x-python",
   "name": "python",
   "nbconvert_exporter": "python",
   "pygments_lexer": "ipython3",
   "version": "3.10.6"
  },
  "orig_nbformat": 4,
  "vscode": {
   "interpreter": {
    "hash": "00ee77d9f845f52d38ec779c87c87ec8399b1dbbb8a1a9dc39e5f827b16b9d79"
   }
  }
 },
 "nbformat": 4,
 "nbformat_minor": 2
}

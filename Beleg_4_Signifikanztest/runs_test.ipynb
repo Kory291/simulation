{
 "cells": [
  {
   "attachments": {},
   "cell_type": "markdown",
   "metadata": {},
   "source": [
    "# Runs-Test"
   ]
  },
  {
   "attachments": {},
   "cell_type": "markdown",
   "metadata": {},
   "source": [
    "## Setup\n",
    "- liest die Werte aus der Datei `./runs_eignabe.txt` aus. Diese einfach aus Opal kopieren, wenn die in einer Matrix gegeben sind\n",
    "- legt die Irrtumswahrscheinlichkeit $\\alpha$ fest\n",
    "\n",
    "Da die Werte spaltenweise aus Opal kopiert werden und auch ohne Leerzeichen o.ä. muss noch etwas bereinigt werden. Die Daten sind am Ende zeilenweise von oben-links nach unten-rechts eingelesen. **Wenn es anders sein soll, am einfachsten einfach selber fix runden und abspeichern.**"
   ]
  },
  {
   "cell_type": "code",
   "execution_count": 61,
   "metadata": {},
   "outputs": [
    {
     "name": "stdout",
     "output_type": "stream",
     "text": [
      "[0.5496, 0.5709, 0.9328, 0.2922, 0.2977, 0.8994, 0.5603, 0.8905, 0.7968, 0.7945, 0.9844, 0.3766, 0.7861, 0.6691, 0.6629, 0.8351, 0.478, 0.7216, 0.6712, 0.4495, 0.9549, 0.5167, 0.9653, 0.4417, 0.4919, 0.2873, 0.7615, 0.4019, 0.3564, 0.7676, 0.455, 0.6583, 0.296, 0.8695, 0.8372, 0.5158, 0.7008, 0.5816, 0.8932, 0.9323, 0.315, 0.4404]\n",
      "[1, 1, 1, 1, 0, 1, 1, 1, 1, 1, 1, 1, 1, 1, 0, 0, 0, 1, 0, 1, 1, 0, 1, 1, 0, 0, 1, 0, 0, 1, 1, 1, 0, 1, 1, 0, 1, 1, 1, 0, 1, 0]\n"
     ]
    }
   ],
   "source": [
    "import math\n",
    "import numpy as np\n",
    "import scipy\n",
    "\n",
    "alpha = 0.01 # Wird für den Annahmebereich der Nullhypothese benötigt\n",
    "\n",
    "with open(\"./runs_eingabe.txt\", \"r\") as input_file:\n",
    "    eingabe = input_file.read()\n",
    "\n",
    "numbers = eingabe.split(\".\")\n",
    "buffer = \"\"\n",
    "new_numbers = []\n",
    "# Einmal die Eingabe aus dem Textfile runs_eingabe.txt einlesen. Die Ziffer vor dem Komma einer Zahl ist die letzte Ziffer der vorherigen Zahl -> wird hier behoben\n",
    "for count, number in enumerate(numbers):\n",
    "    if count == 0:\n",
    "        buffer = number[-1]\n",
    "        continue\n",
    "    new_numbers.append(float(buffer + \".\" + number))\n",
    "    buffer = number[-1]\n",
    "\n",
    "numbers = new_numbers\n",
    "print(numbers)\n",
    "\n",
    "# Definierte die Größen der Matrix -> einmal aus Opal zählen\n",
    "laenge_spalte = 7 # Länge nach unten gezählt\n",
    "laenge_zeile = 6 # Länge nach rechts gezählt\n",
    "rounded_numbers = []\n",
    "\n",
    "assert laenge_spalte * laenge_zeile == len(new_numbers), \"Zeilendefinition stimmt nicht mit der Länge der eingegebenen Daten überein\"\n",
    "# Die Matrix wird spaltenweise aus Opal kopiert. Deshalb muss etwas im Array gesprungen werden, damit es passt\n",
    "for i in range(laenge_spalte):\n",
    "    for k in range(laenge_zeile):\n",
    "        # print(numbers[i + k * laenge_spalte])\n",
    "        rounded_numbers.append(round(numbers[i + k * laenge_spalte]))\n",
    "\n",
    "print(rounded_numbers)"
   ]
  },
  {
   "attachments": {},
   "cell_type": "markdown",
   "metadata": {},
   "source": [
    "## Rechnung"
   ]
  },
  {
   "cell_type": "code",
   "execution_count": 62,
   "metadata": {},
   "outputs": [
    {
     "name": "stdout",
     "output_type": "stream",
     "text": [
      "Anzahl der Runs r: 20\n",
      "Wir erwarten my_r: 21.5 Runs\n",
      "Wir erwarten eine Varianz von: 10.25 Runs.\n",
      "Wir erwarten eine Starndardabweichung von: 3.2015621187164243\n",
      "Das 0.995-Quantil der Standardnormalverteilung: 2.5758293035489004 ist die kritische Grenze c\n",
      "Der Testwert t ist: -0.4685212856658182\n",
      "Der Testwert -0.4685212856658182 liegt im Intervall [-2.5758293035489004, 2.5758293035489004]. Damit wird die Nullhypothese nicht verworfen\n"
     ]
    }
   ],
   "source": [
    "prev_number = rounded_numbers[0]\n",
    "runs = 1\n",
    "for number in rounded_numbers:\n",
    "    if number != prev_number:\n",
    "        runs += 1\n",
    "    prev_number = number\n",
    "\n",
    "n = len(rounded_numbers)\n",
    "my_r = (n + 1) / 2\n",
    "var_r = (n - 1) / 4\n",
    "s_abweichung_r = math.sqrt(var_r)\n",
    "\n",
    "quantil = 1 - alpha / 2\n",
    "c = scipy.stats.norm.ppf(quantil)\n",
    "t = (runs - my_r) / s_abweichung_r\n",
    "\n",
    "print(f\"Anzahl der Runs r: {runs}\")\n",
    "print(f\"Wir erwarten my_r: {my_r} Runs\")\n",
    "print(f\"Wir erwarten eine Varianz von: {var_r} Runs.\")\n",
    "print(f\"Wir erwarten eine Starndardabweichung von: {s_abweichung_r}\")\n",
    "print(f\"Das {quantil}-Quantil der Standardnormalverteilung: {c} ist die kritische Grenze c\")\n",
    "print(f\"Der Testwert t ist: {t}\")\n",
    "\n",
    "if -c <= t <= c:\n",
    "    print(f\"Der Testwert {t} liegt im Intervall [{-c}, {c}]. Damit wird die Nullhypothese nicht verworfen\")\n",
    "else:\n",
    "    print(f\"Der Testwert {t} liegt nicht im Intervall [{-c}, {c}]. Damit wird die Nullhypothese verworfen\")"
   ]
  },
  {
   "cell_type": "code",
   "execution_count": null,
   "metadata": {},
   "outputs": [],
   "source": []
  }
 ],
 "metadata": {
  "kernelspec": {
   "display_name": "Python 3",
   "language": "python",
   "name": "python3"
  },
  "language_info": {
   "codemirror_mode": {
    "name": "ipython",
    "version": 3
   },
   "file_extension": ".py",
   "mimetype": "text/x-python",
   "name": "python",
   "nbconvert_exporter": "python",
   "pygments_lexer": "ipython3",
   "version": "3.10.6"
  },
  "orig_nbformat": 4,
  "vscode": {
   "interpreter": {
    "hash": "916dbcbb3f70747c44a77c7bcd40155683ae19c65e1c03b4aa3499c5328201f1"
   }
  }
 },
 "nbformat": 4,
 "nbformat_minor": 2
}

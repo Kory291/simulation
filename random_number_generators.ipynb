{
 "cells": [
  {
   "attachments": {},
   "cell_type": "markdown",
   "metadata": {},
   "source": [
    "# Lineare Kongruenzmethode\n",
    "### Satz von Knuth\n",
    "\n",
    "1. c und m sind teilerfremd\n",
    "2. Wenn p Primfaktor von m ist, dann ist p auch Primfaktor von a-1\n",
    "3. Wenn m durch 4 geteilt werden kann, dann kann auch a-1 durch 4 geteilt werden"
   ]
  },
  {
   "cell_type": "code",
   "execution_count": 24,
   "metadata": {},
   "outputs": [
    {
     "name": "stdout",
     "output_type": "stream",
     "text": [
      "Primfaktoren von a: {2, 3, 7}\n",
      "Primfaktorenvon m: {2, 3, 7}\n",
      "m: 2268\n",
      "c: 457\n",
      "a: 85\n"
     ]
    }
   ],
   "source": [
    "import math\n",
    "\n",
    "m = 2268\n",
    "\n",
    "a_bounds = [math.ceil(math.sqrt(m)), m - 1]\n",
    "c_bounds = [math.ceil(m/5), m - 1]\n",
    "\n",
    "def prime_factors(n):\n",
    "    \"\"\"Returns all the prime factors of a positive integer\"\"\"\n",
    "    factors = []\n",
    "    d = 2\n",
    "    while n > 1:\n",
    "        while n % d == 0:\n",
    "            factors.append(d)\n",
    "            n /= d\n",
    "        d = d + 1\n",
    "\n",
    "    return factors\n",
    "\n",
    "m_primes = set(prime_factors(m))\n",
    "\n",
    "for c in range(c_bounds[0], c_bounds[1] - 1):\n",
    "    if math.gcd(m, c) == 1:\n",
    "        break\n",
    "\n",
    "for a in range(a_bounds[0], a_bounds[1] + 1):\n",
    "    a_primes = set(prime_factors(a - 1))\n",
    "    if m_primes.issubset(a_primes):\n",
    "        # dritter Punkt Satz vom Satz von Knuth\n",
    "        if m % 4 == 0:\n",
    "            if (a - 1) % 4 == 0:\n",
    "                print(f\"Primfaktoren von a: {a_primes}\\nPrimfaktorenvon m: {m_primes}\")\n",
    "                break\n",
    "        else:\n",
    "            print(f\"Primfaktoren von a: {a_primes}\\nPrimfaktoren von m: {m_primes}\")\n",
    "            break\n",
    "\n",
    "print(f\"m: {m}\\nc: {c}\\na: {a}\")"
   ]
  },
  {
   "cell_type": "code",
   "execution_count": 22,
   "metadata": {},
   "outputs": [],
   "source": [
    "## Zufallszahlen generieren"
   ]
  },
  {
   "cell_type": "code",
   "execution_count": 27,
   "metadata": {},
   "outputs": [
    {
     "name": "stdout",
     "output_type": "stream",
     "text": [
      "[1719, 1420, 953, 2082, 523, 1820, 933, 382, 1175, 540, 997, 1286, 903, 100, 2153, 2022, 2227, 1508, 1629, 574, 1619] [0.6261022927689595, 0.4201940035273369, 0.917989417989418, 0.23059964726631393, 0.8024691358024691, 0.4113756613756614, 0.16843033509700175, 0.5180776014109347, 0.23809523809523808, 0.43959435626102294, 0.5670194003527337, 0.39814814814814814, 0.04409171075837742, 0.949294532627866, 0.8915343915343915, 0.9819223985890653, 0.6649029982363316, 0.7182539682539683, 0.25308641975308643, 0.7138447971781305]\n",
      "903\n"
     ]
    }
   ],
   "source": [
    "MAX_ITER = 20\n",
    "x = [1719]\n",
    "z = []\n",
    "for current_x in range(MAX_ITER):\n",
    "    new_x = (x[-1] * a + c) % m\n",
    "    x.append(new_x)\n",
    "    z.append(new_x / m)\n",
    "\n",
    "print(x, z)\n",
    "print(x[12])"
   ]
  },
  {
   "cell_type": "code",
   "execution_count": null,
   "metadata": {},
   "outputs": [],
   "source": []
  }
 ],
 "metadata": {
  "kernelspec": {
   "display_name": "Python 3",
   "language": "python",
   "name": "python3"
  },
  "language_info": {
   "codemirror_mode": {
    "name": "ipython",
    "version": 3
   },
   "file_extension": ".py",
   "mimetype": "text/x-python",
   "name": "python",
   "nbconvert_exporter": "python",
   "pygments_lexer": "ipython3",
   "version": "3.10.6"
  },
  "orig_nbformat": 4,
  "vscode": {
   "interpreter": {
    "hash": "916dbcbb3f70747c44a77c7bcd40155683ae19c65e1c03b4aa3499c5328201f1"
   }
  }
 },
 "nbformat": 4,
 "nbformat_minor": 2
}

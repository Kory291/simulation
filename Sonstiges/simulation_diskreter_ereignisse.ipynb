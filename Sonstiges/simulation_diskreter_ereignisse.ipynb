{
 "cells": [
  {
   "cell_type": "code",
   "execution_count": 2,
   "metadata": {},
   "outputs": [],
   "source": [
    "import simpy"
   ]
  },
  {
   "attachments": {},
   "cell_type": "markdown",
   "metadata": {},
   "source": [
    "+ Simulationsprozesse durch ``process`` realisiert\n",
    "+ diese Prozesse werden in einem `environment` angesiedelt, über die sie interagieren"
   ]
  },
  {
   "attachments": {},
   "cell_type": "markdown",
   "metadata": {},
   "source": [
    "**Szenario**: Ein Drucker, der sich zu festen Zeiten in zwei möglichen Zuständen befindet:\n",
    "+ Drucker arbeitet für die Dauer `Druckdauer`\n",
    "+ Drucker wartet auf Druckauftrag `Wartezeit` "
   ]
  },
  {
   "cell_type": "code",
   "execution_count": 4,
   "metadata": {},
   "outputs": [],
   "source": [
    "def drucker(env):\n",
    "    while True:\n",
    "        print(f'Starte Druckvorgang {env.now}')\n",
    "        druckdauer = 2\n",
    "        yield env.timeout(druckdauer)\n",
    "\n",
    "        print(f'Wartezeit auf Druckauftrag beginnt zur Zeit {env.now}')\n",
    "        wartezeit = 10\n",
    "        yield env.timeout(wartezeit)"
   ]
  },
  {
   "attachments": {},
   "cell_type": "markdown",
   "metadata": {},
   "source": [
    "Prozess `drucker` benötigt eine Referenz auf die Umgebung `env`, um neue Ereignisse zu starten.\n",
    "+ Prozess ist als Endlosschleife angelegt\n",
    "+ Sobald `yield` erreicht wird, gibt Prozess `drucker` die Kontrolle an das Environment (Simulation) ab.\n",
    "+ Durch `env.timeout` Aufruf mit Übergabe des entspechenden Ereignisses (Hier `druckdauer` oder `wartezeit`) wird der Simulation signalisiert, auf dieses Ereignis zu warten.\n",
    "+ Ausgabe des aktuellen Zustands aktuellen Simulationszeit"
   ]
  },
  {
   "cell_type": "code",
   "execution_count": 5,
   "metadata": {},
   "outputs": [
    {
     "data": {
      "text/plain": [
       "<Process(drucker) object at 0x7fb5f25974c0>"
      ]
     },
     "execution_count": 5,
     "metadata": {},
     "output_type": "execute_result"
    }
   ],
   "source": [
    "# erzeuge Simulationsumgebung\n",
    "env = simpy.Environment()\n",
    "env.process(drucker(env))"
   ]
  },
  {
   "cell_type": "code",
   "execution_count": 6,
   "metadata": {},
   "outputs": [
    {
     "name": "stdout",
     "output_type": "stream",
     "text": [
      "Starte Druckvorgang 0\n",
      "Wartezeit auf Druckauftrag beginnt zur Zeit 2\n",
      "Starte Druckvorgang 12\n",
      "Wartezeit auf Druckauftrag beginnt zur Zeit 14\n",
      "Starte Druckvorgang 24\n",
      "Wartezeit auf Druckauftrag beginnt zur Zeit 26\n",
      "Starte Druckvorgang 36\n",
      "Wartezeit auf Druckauftrag beginnt zur Zeit 38\n",
      "Starte Druckvorgang 48\n",
      "Wartezeit auf Druckauftrag beginnt zur Zeit 50\n"
     ]
    }
   ],
   "source": [
    "# starte Simulation\n",
    "env.run(until=60)"
   ]
  },
  {
   "attachments": {},
   "cell_type": "markdown",
   "metadata": {},
   "source": [
    "**Szenario**: Betrachte Druckerpool mit 2 Druckern. Jede Minute kommt ein neuer Druckauftrag an, dessen Ausführung jeweils 3 Minuten dauert. Berechne die Wartezeiten von Auftragsankunft bis Druckbeginn.\n",
    "\n"
   ]
  },
  {
   "cell_type": "code",
   "execution_count": 15,
   "metadata": {},
   "outputs": [],
   "source": [
    "def druckerpool(env, auftrag, drucker, ankunft, druckdauer):\n",
    "    # simuliere ankommende Druckaufträge\n",
    "    yield env.timeout(ankunft)\n",
    "    print(f\"{auftrag} kommt an ztur Zeit {env.now}\") # \"Auftrag xx kommt an zur Zeit yy\"\n",
    "    t_ankunft = env.now\n",
    "\n",
    "    # fordere Drucker an\n",
    "    with drucker.request() as req:\n",
    "        yield req\n",
    "        # Auftrag wird gedruckt sobald Ressource frei\n",
    "        wartezeit = env.now - t_ankunft\n",
    "        print(f\"{auftrag} Druckbeginn zur Zeit {env.now}, Wartezeit: {wartezeit}\") # \"Auftrag xx Druckbeginn zur Zeit yy\"\n",
    "        yield env.timeout(druckdauer)\n",
    "        print(f\"{auftrag} Druckende zur Zeit {env.now}\") # \"Auftrag xx Druckende zur Zeit yy\""
   ]
  },
  {
   "attachments": {},
   "cell_type": "markdown",
   "metadata": {},
   "source": [
    "+ mit `request()` wird Drucker zur Bearbeitung angefordert bzw. u.U. auf einen freien Drucker gewartet\n",
    "+ wird `request` zusammen mt `with` angewendet, dann wird die angeforderte Ressource nach Bearbeitung eines Auftrags automatisch wieder freigegeben\n",
    "+ Ressource wird mit FCFS-Disziplin beschäftigt\n",
    "+ Ressourcen brauchen einen Verweis auf Simulationsumgebung und eine Kapazitätsangabe (später)"
   ]
  },
  {
   "cell_type": "code",
   "execution_count": 16,
   "metadata": {},
   "outputs": [],
   "source": [
    "# Erzeuge Simulationsumgebung\n",
    "env = simpy.Environment()\n",
    "drucker = simpy.Resource(env, capacity=2)"
   ]
  },
  {
   "cell_type": "code",
   "execution_count": 17,
   "metadata": {},
   "outputs": [],
   "source": [
    "# betrachte die ersten 10 Druckaufträge\n",
    "for i in range(1, 11):\n",
    "    env.process(druckerpool(env, f\"Auftrag {i}\", drucker, i, 3))"
   ]
  },
  {
   "cell_type": "code",
   "execution_count": 18,
   "metadata": {},
   "outputs": [
    {
     "name": "stdout",
     "output_type": "stream",
     "text": [
      "Auftrag 1 kommt an ztur Zeit 1\n",
      "Auftrag 1 Druckbeginn zur Zeit 1, Wartezeit: 0\n",
      "Auftrag 2 kommt an ztur Zeit 2\n",
      "Auftrag 2 Druckbeginn zur Zeit 2, Wartezeit: 0\n",
      "Auftrag 3 kommt an ztur Zeit 3\n",
      "Auftrag 4 kommt an ztur Zeit 4\n",
      "Auftrag 1 Druckende zur Zeit 4\n",
      "Auftrag 3 Druckbeginn zur Zeit 4, Wartezeit: 1\n",
      "Auftrag 5 kommt an ztur Zeit 5\n",
      "Auftrag 2 Druckende zur Zeit 5\n",
      "Auftrag 4 Druckbeginn zur Zeit 5, Wartezeit: 1\n",
      "Auftrag 6 kommt an ztur Zeit 6\n",
      "Auftrag 7 kommt an ztur Zeit 7\n",
      "Auftrag 3 Druckende zur Zeit 7\n",
      "Auftrag 5 Druckbeginn zur Zeit 7, Wartezeit: 2\n",
      "Auftrag 8 kommt an ztur Zeit 8\n",
      "Auftrag 4 Druckende zur Zeit 8\n",
      "Auftrag 6 Druckbeginn zur Zeit 8, Wartezeit: 2\n",
      "Auftrag 9 kommt an ztur Zeit 9\n",
      "Auftrag 10 kommt an ztur Zeit 10\n",
      "Auftrag 5 Druckende zur Zeit 10\n",
      "Auftrag 7 Druckbeginn zur Zeit 10, Wartezeit: 3\n",
      "Auftrag 6 Druckende zur Zeit 11\n",
      "Auftrag 8 Druckbeginn zur Zeit 11, Wartezeit: 3\n",
      "Auftrag 7 Druckende zur Zeit 13\n",
      "Auftrag 9 Druckbeginn zur Zeit 13, Wartezeit: 4\n",
      "Auftrag 8 Druckende zur Zeit 14\n",
      "Auftrag 10 Druckbeginn zur Zeit 14, Wartezeit: 4\n",
      "Auftrag 9 Druckende zur Zeit 16\n",
      "Auftrag 10 Druckende zur Zeit 17\n"
     ]
    }
   ],
   "source": [
    "# starte simulation\n",
    "env.run()"
   ]
  },
  {
   "cell_type": "code",
   "execution_count": null,
   "metadata": {},
   "outputs": [],
   "source": []
  },
  {
   "attachments": {},
   "cell_type": "markdown",
   "metadata": {},
   "source": [
    "**Szenario** Druckerpool mit zwei Druckern. Ankunftsdauer liegt zwischen 1 und 4 Minuten. Druckdauer ist eine ganzzahlige Zahl zwischen 2 und 6 Minuten"
   ]
  },
  {
   "cell_type": "code",
   "execution_count": 33,
   "metadata": {},
   "outputs": [],
   "source": [
    "import random"
   ]
  },
  {
   "cell_type": "code",
   "execution_count": 38,
   "metadata": {},
   "outputs": [],
   "source": [
    "def druckerpool(env, auftrag, drucker, ankunft, druckdauer):\n",
    "    # simuliere ankommende Druckaufträge\n",
    "    yield env.timeout(ankunft)\n",
    "    print(f\"{auftrag} kommt an zur Zeit {env.now}\") # \"Auftrag xx kommt an zur Zeit yy\"\n",
    "    t_ankunft = env.now\n",
    "\n",
    "    # fordere Drucker an\n",
    "    with drucker.request() as req:\n",
    "        yield req\n",
    "        # Auftrag wird gedruckt sobald Ressource frei\n",
    "        wartezeit = env.now - t_ankunft\n",
    "        print(f\"{auftrag} Druckbeginn zur Zeit {env.now} (Wartezeit: {wartezeit} und Dauer {druckdauer})\") # \"Auftrag xx Druckbeginn zur Zeit yy\"\n",
    "        yield env.timeout(druckdauer)\n",
    "        print(f\"{auftrag} Druckende zur Zeit {env.now}\") # \"Auftrag xx Druckende zur Zeit yy\""
   ]
  },
  {
   "cell_type": "code",
   "execution_count": 39,
   "metadata": {},
   "outputs": [],
   "source": [
    "env = simpy.Environment()\n",
    "drucker = simpy.Resource(env, capacity=2)"
   ]
  },
  {
   "cell_type": "code",
   "execution_count": 40,
   "metadata": {},
   "outputs": [],
   "source": [
    "# betrachte die ersten 10 Druckaufträge\n",
    "t_0 = 0\n",
    "for i in range(1, 11):\n",
    "    t_0 += random.randint(1, 4)\n",
    "    env.process(druckerpool(env, f\"Auftrag {i}\", drucker, t_0, random.randint(2, 6)))"
   ]
  },
  {
   "cell_type": "code",
   "execution_count": 41,
   "metadata": {},
   "outputs": [
    {
     "name": "stdout",
     "output_type": "stream",
     "text": [
      "Auftrag 1 kommt an zur Zeit 3\n",
      "Auftrag 1 Druckbeginn zur Zeit 3 (Wartezeit: 0 und Dauer 2)\n",
      "Auftrag 2 kommt an zur Zeit 4\n",
      "Auftrag 2 Druckbeginn zur Zeit 4 (Wartezeit: 0 und Dauer 4)\n",
      "Auftrag 1 Druckende zur Zeit 5\n",
      "Auftrag 3 kommt an zur Zeit 6\n",
      "Auftrag 3 Druckbeginn zur Zeit 6 (Wartezeit: 0 und Dauer 3)\n",
      "Auftrag 4 kommt an zur Zeit 7\n",
      "Auftrag 5 kommt an zur Zeit 8\n",
      "Auftrag 2 Druckende zur Zeit 8\n",
      "Auftrag 4 Druckbeginn zur Zeit 8 (Wartezeit: 1 und Dauer 6)\n",
      "Auftrag 3 Druckende zur Zeit 9\n",
      "Auftrag 5 Druckbeginn zur Zeit 9 (Wartezeit: 1 und Dauer 2)\n",
      "Auftrag 5 Druckende zur Zeit 11\n",
      "Auftrag 6 kommt an zur Zeit 12\n",
      "Auftrag 6 Druckbeginn zur Zeit 12 (Wartezeit: 0 und Dauer 2)\n",
      "Auftrag 7 kommt an zur Zeit 14\n",
      "Auftrag 4 Druckende zur Zeit 14\n",
      "Auftrag 6 Druckende zur Zeit 14\n",
      "Auftrag 7 Druckbeginn zur Zeit 14 (Wartezeit: 0 und Dauer 4)\n",
      "Auftrag 8 kommt an zur Zeit 18\n",
      "Auftrag 7 Druckende zur Zeit 18\n",
      "Auftrag 8 Druckbeginn zur Zeit 18 (Wartezeit: 0 und Dauer 3)\n",
      "Auftrag 9 kommt an zur Zeit 20\n",
      "Auftrag 9 Druckbeginn zur Zeit 20 (Wartezeit: 0 und Dauer 3)\n",
      "Auftrag 8 Druckende zur Zeit 21\n",
      "Auftrag 10 kommt an zur Zeit 23\n",
      "Auftrag 9 Druckende zur Zeit 23\n",
      "Auftrag 10 Druckbeginn zur Zeit 23 (Wartezeit: 0 und Dauer 3)\n",
      "Auftrag 10 Druckende zur Zeit 26\n"
     ]
    }
   ],
   "source": [
    "env.run()"
   ]
  },
  {
   "attachments": {},
   "cell_type": "markdown",
   "metadata": {},
   "source": [
    "# M/M/2 - Supermarktkasse"
   ]
  },
  {
   "cell_type": "code",
   "execution_count": 42,
   "metadata": {},
   "outputs": [],
   "source": [
    "# mittlerer Ankunftsabstand a, mittlere Bediendauer b [sekunden]\n",
    "a = 25\n",
    "b = 45"
   ]
  },
  {
   "cell_type": "code",
   "execution_count": 43,
   "metadata": {},
   "outputs": [],
   "source": [
    "def kassensystem(env, kundin, kasse, ankunft, kassierdauer):\n",
    "    # Simuliere ankommende Kundinnen\n",
    "    yield env.timeout(ankunft)\n",
    "    print(f\"{env.now} {kundin} Ankunft in Warteschlange\")\n",
    "\n",
    "    t_ankunft = env.now\n",
    "\n",
    "    #fordere Kassiervorgang an\n",
    "    with kasse.request() as req:\n",
    "        yield req\n",
    "        wartezeit = env.now - t_ankunft\n",
    "        print(f\"{env.now} {kundin} Kassiervorgang beginnt (Wartezeit {wartezeit})\")\n",
    "        \n",
    "        yield env.timeout(kassierdauer)\n",
    "        print(f\"{env.now} {kundin} Kassiervorgang endet\")"
   ]
  },
  {
   "cell_type": "code",
   "execution_count": 44,
   "metadata": {},
   "outputs": [],
   "source": [
    "env = simpy.Environment()\n",
    "kasse = simpy.Resource(env, capacity = 2)"
   ]
  },
  {
   "cell_type": "code",
   "execution_count": 45,
   "metadata": {},
   "outputs": [],
   "source": [
    "# betrachte die ersten 10 Kundinnen\n",
    "t_0 = 0\n",
    "for i in range(1, 11):\n",
    "    t_0 += random.expovariate(1/a)\n",
    "    env.process(kassensystem(env, f\"Kundin {i}\", kasse, t_0, random.expovariate(1/b)))"
   ]
  },
  {
   "cell_type": "code",
   "execution_count": 46,
   "metadata": {},
   "outputs": [
    {
     "name": "stdout",
     "output_type": "stream",
     "text": [
      "22.957681901420425 Kundin 1 Ankunft in Warteschlange\n",
      "22.957681901420425 Kundin 1 Kassiervorgang beginnt (Wartezeit 0.0)\n",
      "33.78762702788011 Kundin 2 Ankunft in Warteschlange\n",
      "33.78762702788011 Kundin 2 Kassiervorgang beginnt (Wartezeit 0.0)\n",
      "39.79189130033227 Kundin 1 Kassiervorgang endet\n",
      "61.42857394352097 Kundin 2 Kassiervorgang endet\n",
      "70.28967813149463 Kundin 3 Ankunft in Warteschlange\n",
      "70.28967813149463 Kundin 3 Kassiervorgang beginnt (Wartezeit 0.0)\n",
      "112.83399815123262 Kundin 3 Kassiervorgang endet\n",
      "117.17151388748732 Kundin 4 Ankunft in Warteschlange\n",
      "117.17151388748732 Kundin 4 Kassiervorgang beginnt (Wartezeit 0.0)\n",
      "138.20918041290068 Kundin 4 Kassiervorgang endet\n",
      "156.26166907957054 Kundin 5 Ankunft in Warteschlange\n",
      "156.26166907957054 Kundin 5 Kassiervorgang beginnt (Wartezeit 0.0)\n",
      "172.0184047543345 Kundin 5 Kassiervorgang endet\n",
      "230.06838823168664 Kundin 6 Ankunft in Warteschlange\n",
      "230.06838823168664 Kundin 6 Kassiervorgang beginnt (Wartezeit 0.0)\n",
      "243.35791324480505 Kundin 7 Ankunft in Warteschlange\n",
      "243.35791324480505 Kundin 7 Kassiervorgang beginnt (Wartezeit 0.0)\n",
      "254.81949433837946 Kundin 8 Ankunft in Warteschlange\n",
      "273.42952597864456 Kundin 9 Ankunft in Warteschlange\n",
      "274.4786497110842 Kundin 7 Kassiervorgang endet\n",
      "274.4786497110842 Kundin 8 Kassiervorgang beginnt (Wartezeit 19.65915537270473)\n",
      "275.5319257006363 Kundin 10 Ankunft in Warteschlange\n",
      "302.197911817094 Kundin 8 Kassiervorgang endet\n",
      "302.197911817094 Kundin 9 Kassiervorgang beginnt (Wartezeit 28.768385838449433)\n",
      "304.07326187810116 Kundin 6 Kassiervorgang endet\n",
      "304.07326187810116 Kundin 10 Kassiervorgang beginnt (Wartezeit 28.54133617746487)\n",
      "338.07394053162693 Kundin 9 Kassiervorgang endet\n",
      "353.9497581970319 Kundin 10 Kassiervorgang endet\n"
     ]
    }
   ],
   "source": [
    "env.run()"
   ]
  },
  {
   "cell_type": "code",
   "execution_count": null,
   "metadata": {},
   "outputs": [],
   "source": []
  }
 ],
 "metadata": {
  "kernelspec": {
   "display_name": "venv",
   "language": "python",
   "name": "python3"
  },
  "language_info": {
   "codemirror_mode": {
    "name": "ipython",
    "version": 3
   },
   "file_extension": ".py",
   "mimetype": "text/x-python",
   "name": "python",
   "nbconvert_exporter": "python",
   "pygments_lexer": "ipython3",
   "version": "3.10.6"
  },
  "orig_nbformat": 4,
  "vscode": {
   "interpreter": {
    "hash": "bade3e3aff0733d373635494556d4b689b98ccf298d86ce8a9deca04bd6505bb"
   }
  }
 },
 "nbformat": 4,
 "nbformat_minor": 2
}

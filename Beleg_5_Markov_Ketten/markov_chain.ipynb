{
 "cells": [
  {
   "attachments": {},
   "cell_type": "markdown",
   "metadata": {},
   "source": [
    "# Markov-Ketten"
   ]
  },
  {
   "attachments": {},
   "cell_type": "markdown",
   "metadata": {},
   "source": [
    "## Diskrete Markov-Ketten"
   ]
  },
  {
   "cell_type": "code",
   "execution_count": 1,
   "metadata": {},
   "outputs": [],
   "source": [
    "import numpy as np\n",
    "\n",
    "def m_te_uebergangsmatrix(uebergangsmatrix, m):\n",
    "    # m beschreibt die Anzahl der Schritte (= Potenz der Matrix)\n",
    "    result = uebergangsmatrix\n",
    "    for k in range(m - 1):\n",
    "        result = np.matmul(result, uebergangsmatrix)\n",
    "    return result"
   ]
  },
  {
   "attachments": {},
   "cell_type": "markdown",
   "metadata": {},
   "source": [
    "### Für Aufgabe 2 genutzt"
   ]
  },
  {
   "cell_type": "code",
   "execution_count": 50,
   "metadata": {},
   "outputs": [
    {
     "name": "stdout",
     "output_type": "stream",
     "text": [
      "[0.0081 0.0478 0.1124 0.2469 0.3259 0.2589]\n"
     ]
    }
   ],
   "source": [
    "# pi_0 = np.array([1/28, 7/28, 16/28, 2/28, 2/28, 0/28])\n",
    "pi_0 = np.array([0, 0, 0, 0, 1, 0])\n",
    "\n",
    "uebergangsmatrix = np.array([\n",
    "    [0.65, 0.21, 0.14, 0, 0, 0],\n",
    "    [0.17, 0.5, 0.2, 0.11, 0.02, 0],\n",
    "    [0.09, 0.25, 0.27, 0.24, 0.14, 0.01],\n",
    "    [0, 0.11, 0.19, 0.4, 0.21, 0.09],\n",
    "    [0, 0.0, 0.09, 0.23, 0.47, 0.21],\n",
    "    [0, 0, 0.01, 0.12, 0.21, 0.66]\n",
    "])\n",
    "\n",
    "alpha = 1e-3\n",
    "# Absichern, dass der Ausgangsvektor Sinn macht\n",
    "assert 1-alpha <= sum(pi_0) <= 1+alpha, f\"Die Summe von pi_0 ist mit {sum(pi_0)} im Bereich von [{1-alpha}, {1+alpha}]\"\n",
    "\n",
    "# Einfach zum Absichern, dass ich nicht in der Zeile verrutscht bin\n",
    "for index, row in enumerate(uebergangsmatrix):\n",
    "    assert 1-alpha <= sum(row) <= 1+alpha, f\"Die Summe der Zeile {index + 1} ist mit {sum(row)} im Bereich von [{1-alpha}, {1+alpha}]\"\n",
    "\n",
    "result = np.matmul(pi_0, m_te_uebergangsmatrix(uebergangsmatrix, m=2))\n",
    "# result = m_te_uebergangsmatrix(uebergangsmatrix, m=5)\n",
    "print(result)"
   ]
  },
  {
   "attachments": {},
   "cell_type": "markdown",
   "metadata": {},
   "source": [
    "### Für Aufgabe 3 genutzt"
   ]
  },
  {
   "cell_type": "code",
   "execution_count": 52,
   "metadata": {},
   "outputs": [
    {
     "name": "stdout",
     "output_type": "stream",
     "text": [
      "[0.375      0.16666667 0.125      0.33333333]\n"
     ]
    }
   ],
   "source": [
    "pi_0 = np.array([1/4, 1/4, 1/4, 1/4])\n",
    "\n",
    "uebergangsmatrix = np.array([\n",
    "    [0, 1/3, 1/3, 1/3],\n",
    "    [0, 0, 0, 1],\n",
    "    [1/3, 1/3, 0, 1/3],\n",
    "    [1, 0, 0, 0]\n",
    "])\n",
    "\n",
    "alpha = 1e-3\n",
    "# Absichern, dass der Ausgangsvektor Sinn macht\n",
    "assert 1-alpha <= sum(pi_0) <= 1+alpha, f\"Die Summe von pi_0 ist mit {sum(pi_0)} im Bereich von [{1-alpha}, {1+alpha}]\"\n",
    "\n",
    "# Einfach zum Absichern, dass ich nicht in der Zeile verrutscht bin\n",
    "for index, row in enumerate(uebergangsmatrix):\n",
    "    assert 1-alpha <= sum(row) <= 1+alpha, f\"Die Summe der Zeile {index + 1} ist mit {sum(row)} im Bereich von [{1-alpha}, {1+alpha}]\"\n",
    "\n",
    "result = np.matmul(pi_0, m_te_uebergangsmatrix(uebergangsmatrix, m=100000))\n",
    "# result = m_te_uebergangsmatrix(uebergangsmatrix, m=5)\n",
    "print(result)"
   ]
  },
  {
   "attachments": {},
   "cell_type": "markdown",
   "metadata": {},
   "source": [
    "## Stetige Markov-Ketten"
   ]
  },
  {
   "cell_type": "code",
   "execution_count": 114,
   "metadata": {},
   "outputs": [
    {
     "name": "stdout",
     "output_type": "stream",
     "text": [
      "[-0.42857143  0.          0.21052632  0.        ]\n",
      "[ 0.14285714 -0.28571429  0.          0.36363636]\n",
      "[ 0.28571429  0.07142857 -0.26315789  0.36363636]\n",
      "[ 0.          0.21428571  0.05263158 -0.72727273]\n",
      "{a: 0.217054263565891, b: 0.238759689922481, c: 0.441860465116279, d: 0.102325581395349}\n"
     ]
    }
   ],
   "source": [
    "import numpy as np\n",
    "from sympy import Symbol, symbols, Eq, solve\n",
    "\n",
    "intensitaetsmatrix = np.array([\n",
    "    [-3/7, 1/7, 2/7, 0],\n",
    "    [0, -4/14, 1/14, 3/14],\n",
    "    [4/19, 0, -5/19, 1/19],\n",
    "    [0, 4/11, 4/11, -8/11]\n",
    "])\n",
    "\n",
    "# intensitaetsmatrix = np.array([\n",
    "#     [-1/2, 0, 1/2],\n",
    "#     [1/20, -3/10, 1/4],\n",
    "#     [1/10, 2/9, -29/90]\n",
    "# ])\n",
    "\n",
    "# Überprüfe, dass die Intensitätsmatrix Sinn macht -> Zeilensummen müssen 0 sein\n",
    "alpha = 1e-3\n",
    "for index, row in enumerate(intensitaetsmatrix):\n",
    "    assert -alpha <= sum(row) <= alpha, f\"Die Zeilensumme der Intensitätsmatrix ist in der Zeile {index + 1} mit {sum(row)} nicht im Intervall [{-alpha}, {alpha}]\"\n",
    "\n",
    "def get_stationary(intensity_matrix):\n",
    "    a, b, c, d = symbols('a b c d')\n",
    "    equations = []\n",
    "    \n",
    "    # Matrix transponieren, damit ich über die Spalten laufen kann\n",
    "    _ = np.transpose(intensity_matrix)\n",
    "    for row in _:\n",
    "        print(row)\n",
    "        equations.append(Eq(row[0] * a + row[1] * b + row[2] * c + row[3] * d, 0))\n",
    "    # Hinzufügen der Nebenbedingung\n",
    "    equations.append(Eq(a + b + c + d, 1))\n",
    "    # Sympy errechnet die Lösung des Gleichungssystems\n",
    "    return solve(equations)\n",
    "\n",
    "x = get_stationary(intensitaetsmatrix)\n",
    "print(x)"
   ]
  },
  {
   "cell_type": "code",
   "execution_count": null,
   "metadata": {},
   "outputs": [],
   "source": []
  }
 ],
 "metadata": {
  "kernelspec": {
   "display_name": "Python 3",
   "language": "python",
   "name": "python3"
  },
  "language_info": {
   "codemirror_mode": {
    "name": "ipython",
    "version": 3
   },
   "file_extension": ".py",
   "mimetype": "text/x-python",
   "name": "python",
   "nbconvert_exporter": "python",
   "pygments_lexer": "ipython3",
   "version": "3.10.6"
  },
  "orig_nbformat": 4,
  "vscode": {
   "interpreter": {
    "hash": "916dbcbb3f70747c44a77c7bcd40155683ae19c65e1c03b4aa3499c5328201f1"
   }
  }
 },
 "nbformat": 4,
 "nbformat_minor": 2
}

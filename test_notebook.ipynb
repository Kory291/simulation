{
 "cells": [
  {
   "attachments": {},
   "cell_type": "markdown",
   "metadata": {},
   "source": [
    "# Erstellung von pseudo-normalverteilten Zufallszahlen mit der Polarmethode"
   ]
  },
  {
   "cell_type": "code",
   "execution_count": 30,
   "metadata": {},
   "outputs": [
    {
     "name": "stdout",
     "output_type": "stream",
     "text": [
      "500\n",
      "12.02194072731216 1.9140095395150247\n",
      "786\n",
      "0.7951653944020356\n"
     ]
    }
   ],
   "source": [
    "import numpy\n",
    "\n",
    "m = 648\n",
    "a = 25\n",
    "c = 131\n",
    "\n",
    "my = 12\n",
    "sigma = 1.9\n",
    "\n",
    "x = [17]\n",
    "u = []\n",
    "z = []\n",
    "\n",
    "for k in range(500):\n",
    "    new_x = (a * x[-1] + c) % m\n",
    "    x.append(new_x)\n",
    "    u.append(2 * (new_x / m) - 1)\n",
    "\n",
    "for i in range(0, len(u) - 1):\n",
    "    r = u[i]**2 + u[i + 1]**2\n",
    "    if r <= 1 and r != 0:\n",
    "        p = numpy.sqrt(-(2 / r) * numpy.log(r))\n",
    "        z.append(sigma * u[i] * p + my)\n",
    "        z.append(sigma * u[i + 1] * p + my)\n",
    "\n",
    "print(len(u))\n",
    "calc_my = 1 / len(z) * sum(z)\n",
    "calc_sigma = numpy.sqrt(1 / len(z) * sum([(calc_my - current_z)**2 for current_z in z]))\n",
    "\n",
    "print(calc_my, calc_sigma)\n",
    "print(len(z))\n",
    "\n",
    "z.sort()\n",
    "\n",
    "filtered_list = [current_z for current_z in z if 9 <= current_z <= 14]\n",
    "# print(filtered_list)\n",
    "\n",
    "cdf = len(filtered_list) / len(z)\n",
    "\n",
    "print(cdf)"
   ]
  },
  {
   "cell_type": "code",
   "execution_count": null,
   "metadata": {},
   "outputs": [],
   "source": []
  }
 ],
 "metadata": {
  "kernelspec": {
   "display_name": "Python 3",
   "language": "python",
   "name": "python3"
  },
  "language_info": {
   "codemirror_mode": {
    "name": "ipython",
    "version": 3
   },
   "file_extension": ".py",
   "mimetype": "text/x-python",
   "name": "python",
   "nbconvert_exporter": "python",
   "pygments_lexer": "ipython3",
   "version": "3.10.6 (main, Nov 14 2022, 16:10:14) [GCC 11.3.0]"
  },
  "orig_nbformat": 4,
  "vscode": {
   "interpreter": {
    "hash": "916dbcbb3f70747c44a77c7bcd40155683ae19c65e1c03b4aa3499c5328201f1"
   }
  }
 },
 "nbformat": 4,
 "nbformat_minor": 2
}
